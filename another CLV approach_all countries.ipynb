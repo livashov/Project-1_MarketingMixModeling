{
 "cells": [
  {
   "cell_type": "code",
   "execution_count": 75,
   "metadata": {},
   "outputs": [],
   "source": [
    "import pandas as pd\n",
    "import numpy as np\n",
    "from datetime import datetime\n",
    "\n",
    "#Statistical LTV\n",
    "from lifetimes import BetaGeoFitter, GammaGammaFitter\n",
    "from lifetimes.utils import calibration_and_holdout_data, summary_data_from_transaction_data\n",
    "\n",
    "#DNN\n",
    "import tensorflow as tf\n",
    "from tensorflow import keras\n",
    "from tensorflow.keras import layers\n",
    "\n",
    "#Evaluation\n",
    "from sklearn.metrics import r2_score\n",
    "from sklearn.metrics import mean_absolute_error\n",
    "\n",
    "#Plotting\n",
    "import matplotlib.pyplot as plt\n",
    "import seaborn as sns"
   ]
  },
  {
   "cell_type": "code",
   "execution_count": 76,
   "metadata": {},
   "outputs": [],
   "source": [
    "#Read data\n",
    "df = pd.read_excel(\"Online Retail.xlsx\", engine='openpyxl')\n",
    "df['InvoiceDate'] = pd.to_datetime(df.InvoiceDate, format = '%d/%m/%Y %H:%M')"
   ]
  },
  {
   "cell_type": "code",
   "execution_count": 77,
   "metadata": {},
   "outputs": [],
   "source": [
    "df['date'] = pd.to_datetime(df.InvoiceDate.dt.date)\n",
    "df['time'] = df.InvoiceDate.dt.time\n",
    "df['hour'] = df['time'].apply(lambda x: x.hour)\n",
    "df['weekend'] = df['date'].apply(lambda x: x.weekday() in [5, 6])\n",
    "df['dayofweek'] = df['date'].apply(lambda x: x.dayofweek)"
   ]
  },
  {
   "cell_type": "code",
   "execution_count": 78,
   "metadata": {},
   "outputs": [
    {
     "data": {
      "text/html": [
       "<div>\n",
       "<style scoped>\n",
       "    .dataframe tbody tr th:only-of-type {\n",
       "        vertical-align: middle;\n",
       "    }\n",
       "\n",
       "    .dataframe tbody tr th {\n",
       "        vertical-align: top;\n",
       "    }\n",
       "\n",
       "    .dataframe thead th {\n",
       "        text-align: right;\n",
       "    }\n",
       "</style>\n",
       "<table border=\"1\" class=\"dataframe\">\n",
       "  <thead>\n",
       "    <tr style=\"text-align: right;\">\n",
       "      <th></th>\n",
       "      <th>InvoiceNo</th>\n",
       "      <th>StockCode</th>\n",
       "      <th>Description</th>\n",
       "      <th>Quantity</th>\n",
       "      <th>InvoiceDate</th>\n",
       "      <th>UnitPrice</th>\n",
       "      <th>CustomerID</th>\n",
       "      <th>Country</th>\n",
       "      <th>date</th>\n",
       "      <th>time</th>\n",
       "      <th>hour</th>\n",
       "      <th>weekend</th>\n",
       "      <th>dayofweek</th>\n",
       "    </tr>\n",
       "  </thead>\n",
       "  <tbody>\n",
       "    <tr>\n",
       "      <th>0</th>\n",
       "      <td>536365</td>\n",
       "      <td>85123A</td>\n",
       "      <td>WHITE HANGING HEART T-LIGHT HOLDER</td>\n",
       "      <td>6</td>\n",
       "      <td>2010-12-01 08:26:00</td>\n",
       "      <td>2.55</td>\n",
       "      <td>17850.0</td>\n",
       "      <td>United Kingdom</td>\n",
       "      <td>2010-12-01</td>\n",
       "      <td>08:26:00</td>\n",
       "      <td>8</td>\n",
       "      <td>False</td>\n",
       "      <td>2</td>\n",
       "    </tr>\n",
       "    <tr>\n",
       "      <th>1</th>\n",
       "      <td>536365</td>\n",
       "      <td>71053</td>\n",
       "      <td>WHITE METAL LANTERN</td>\n",
       "      <td>6</td>\n",
       "      <td>2010-12-01 08:26:00</td>\n",
       "      <td>3.39</td>\n",
       "      <td>17850.0</td>\n",
       "      <td>United Kingdom</td>\n",
       "      <td>2010-12-01</td>\n",
       "      <td>08:26:00</td>\n",
       "      <td>8</td>\n",
       "      <td>False</td>\n",
       "      <td>2</td>\n",
       "    </tr>\n",
       "    <tr>\n",
       "      <th>2</th>\n",
       "      <td>536365</td>\n",
       "      <td>84406B</td>\n",
       "      <td>CREAM CUPID HEARTS COAT HANGER</td>\n",
       "      <td>8</td>\n",
       "      <td>2010-12-01 08:26:00</td>\n",
       "      <td>2.75</td>\n",
       "      <td>17850.0</td>\n",
       "      <td>United Kingdom</td>\n",
       "      <td>2010-12-01</td>\n",
       "      <td>08:26:00</td>\n",
       "      <td>8</td>\n",
       "      <td>False</td>\n",
       "      <td>2</td>\n",
       "    </tr>\n",
       "    <tr>\n",
       "      <th>3</th>\n",
       "      <td>536365</td>\n",
       "      <td>84029G</td>\n",
       "      <td>KNITTED UNION FLAG HOT WATER BOTTLE</td>\n",
       "      <td>6</td>\n",
       "      <td>2010-12-01 08:26:00</td>\n",
       "      <td>3.39</td>\n",
       "      <td>17850.0</td>\n",
       "      <td>United Kingdom</td>\n",
       "      <td>2010-12-01</td>\n",
       "      <td>08:26:00</td>\n",
       "      <td>8</td>\n",
       "      <td>False</td>\n",
       "      <td>2</td>\n",
       "    </tr>\n",
       "    <tr>\n",
       "      <th>4</th>\n",
       "      <td>536365</td>\n",
       "      <td>84029E</td>\n",
       "      <td>RED WOOLLY HOTTIE WHITE HEART.</td>\n",
       "      <td>6</td>\n",
       "      <td>2010-12-01 08:26:00</td>\n",
       "      <td>3.39</td>\n",
       "      <td>17850.0</td>\n",
       "      <td>United Kingdom</td>\n",
       "      <td>2010-12-01</td>\n",
       "      <td>08:26:00</td>\n",
       "      <td>8</td>\n",
       "      <td>False</td>\n",
       "      <td>2</td>\n",
       "    </tr>\n",
       "  </tbody>\n",
       "</table>\n",
       "</div>"
      ],
      "text/plain": [
       "  InvoiceNo StockCode                          Description  Quantity  \\\n",
       "0    536365    85123A   WHITE HANGING HEART T-LIGHT HOLDER         6   \n",
       "1    536365     71053                  WHITE METAL LANTERN         6   \n",
       "2    536365    84406B       CREAM CUPID HEARTS COAT HANGER         8   \n",
       "3    536365    84029G  KNITTED UNION FLAG HOT WATER BOTTLE         6   \n",
       "4    536365    84029E       RED WOOLLY HOTTIE WHITE HEART.         6   \n",
       "\n",
       "          InvoiceDate  UnitPrice  CustomerID         Country       date  \\\n",
       "0 2010-12-01 08:26:00       2.55     17850.0  United Kingdom 2010-12-01   \n",
       "1 2010-12-01 08:26:00       3.39     17850.0  United Kingdom 2010-12-01   \n",
       "2 2010-12-01 08:26:00       2.75     17850.0  United Kingdom 2010-12-01   \n",
       "3 2010-12-01 08:26:00       3.39     17850.0  United Kingdom 2010-12-01   \n",
       "4 2010-12-01 08:26:00       3.39     17850.0  United Kingdom 2010-12-01   \n",
       "\n",
       "       time  hour  weekend  dayofweek  \n",
       "0  08:26:00     8    False          2  \n",
       "1  08:26:00     8    False          2  \n",
       "2  08:26:00     8    False          2  \n",
       "3  08:26:00     8    False          2  \n",
       "4  08:26:00     8    False          2  "
      ]
     },
     "execution_count": 78,
     "metadata": {},
     "output_type": "execute_result"
    }
   ],
   "source": [
    "df.head()"
   ]
  },
  {
   "cell_type": "code",
   "execution_count": 79,
   "metadata": {},
   "outputs": [
    {
     "name": "stdout",
     "output_type": "stream",
     "text": [
      "373 days 00:00:00\n"
     ]
    },
    {
     "data": {
      "image/png": "[encoded data removed]",
      "text/plain": [
       "<Figure size 432x288 with 1 Axes>"
      ]
     },
     "metadata": {
      "needs_background": "light"
     },
     "output_type": "display_data"
    }
   ],
   "source": [
    "df.groupby('date')['Quantity'].sum().plot()\n",
    "print(df['date'].max() - df['date'].min())"
   ]
  },
  {
   "cell_type": "code",
   "execution_count": 80,
   "metadata": {},
   "outputs": [
    {
     "name": "stdout",
     "output_type": "stream",
     "text": [
      "Total Number of Purchases: 541909\n",
      "Total Number of transactions: 25900\n",
      "Total Unique Days: 305\n",
      "Total Unique Customers: 4372\n",
      "We are predicting 89 days\n"
     ]
    }
   ],
   "source": [
    "#Dataset info\n",
    "print(f'Total Number of Purchases: {df.shape[0]}')\n",
    "print(f'Total Number of transactions: {df.InvoiceNo.nunique()}')\n",
    "print(f'Total Unique Days: {df.date.nunique()}')\n",
    "print(f'Total Unique Customers: {df.CustomerID.nunique()}')\n",
    "print(f\"We are predicting {(df['date'].max() - datetime(2011, 9, 11)).days} days\")"
   ]
  },
  {
   "cell_type": "code",
   "execution_count": 81,
   "metadata": {},
   "outputs": [],
   "source": [
    "#create revenue column\n",
    "df['Revenue'] = df['Quantity'] * df['UnitPrice']"
   ]
  },
  {
   "cell_type": "code",
   "execution_count": 82,
   "metadata": {},
   "outputs": [],
   "source": [
    "#Context data for the revenue (date & customerID)\n",
    "id_lookup = df[['CustomerID', 'InvoiceNo', 'date']].drop_duplicates()\n",
    "id_lookup.index = id_lookup['InvoiceNo']\n",
    "id_lookup = id_lookup.drop('InvoiceNo', axis=1)\n",
    "\n",
    "transactions_data = pd.DataFrame(df.groupby('InvoiceNo')['Revenue'].sum()).join(id_lookup)"
   ]
  },
  {
   "cell_type": "code",
   "execution_count": 83,
   "metadata": {},
   "outputs": [
    {
     "data": {
      "text/html": [
       "<div>\n",
       "<style scoped>\n",
       "    .dataframe tbody tr th:only-of-type {\n",
       "        vertical-align: middle;\n",
       "    }\n",
       "\n",
       "    .dataframe tbody tr th {\n",
       "        vertical-align: top;\n",
       "    }\n",
       "\n",
       "    .dataframe thead th {\n",
       "        text-align: right;\n",
       "    }\n",
       "</style>\n",
       "<table border=\"1\" class=\"dataframe\">\n",
       "  <thead>\n",
       "    <tr style=\"text-align: right;\">\n",
       "      <th></th>\n",
       "      <th>Revenue</th>\n",
       "      <th>CustomerID</th>\n",
       "      <th>date</th>\n",
       "    </tr>\n",
       "    <tr>\n",
       "      <th>InvoiceNo</th>\n",
       "      <th></th>\n",
       "      <th></th>\n",
       "      <th></th>\n",
       "    </tr>\n",
       "  </thead>\n",
       "  <tbody>\n",
       "    <tr>\n",
       "      <th>536365</th>\n",
       "      <td>139.12</td>\n",
       "      <td>17850.0</td>\n",
       "      <td>2010-12-01</td>\n",
       "    </tr>\n",
       "    <tr>\n",
       "      <th>536366</th>\n",
       "      <td>22.20</td>\n",
       "      <td>17850.0</td>\n",
       "      <td>2010-12-01</td>\n",
       "    </tr>\n",
       "    <tr>\n",
       "      <th>536367</th>\n",
       "      <td>278.73</td>\n",
       "      <td>13047.0</td>\n",
       "      <td>2010-12-01</td>\n",
       "    </tr>\n",
       "    <tr>\n",
       "      <th>536368</th>\n",
       "      <td>70.05</td>\n",
       "      <td>13047.0</td>\n",
       "      <td>2010-12-01</td>\n",
       "    </tr>\n",
       "    <tr>\n",
       "      <th>536369</th>\n",
       "      <td>17.85</td>\n",
       "      <td>13047.0</td>\n",
       "      <td>2010-12-01</td>\n",
       "    </tr>\n",
       "  </tbody>\n",
       "</table>\n",
       "</div>"
      ],
      "text/plain": [
       "           Revenue  CustomerID       date\n",
       "InvoiceNo                                \n",
       "536365      139.12     17850.0 2010-12-01\n",
       "536366       22.20     17850.0 2010-12-01\n",
       "536367      278.73     13047.0 2010-12-01\n",
       "536368       70.05     13047.0 2010-12-01\n",
       "536369       17.85     13047.0 2010-12-01"
      ]
     },
     "execution_count": 83,
     "metadata": {},
     "output_type": "execute_result"
    }
   ],
   "source": [
    "transactions_data.head()"
   ]
  },
  {
   "cell_type": "code",
   "execution_count": 84,
   "metadata": {},
   "outputs": [],
   "source": [
    "#Spit into train - test\n",
    "rfm_train_test = calibration_and_holdout_data(transactions_data, 'CustomerID', 'date',\n",
    "                                        calibration_period_end='2011-09-10',\n",
    "                                        monetary_value_col = 'Revenue')   \n",
    "\n",
    "#Selecting only customers with positive value in the calibration period (otherwise Gamma-Gamma model doesn't work)\n",
    "rfm_train_test = rfm_train_test.loc[rfm_train_test['monetary_value_cal'] > 0, :]"
   ]
  },
  {
   "cell_type": "code",
   "execution_count": 85,
   "metadata": {},
   "outputs": [
    {
     "name": "stdout",
     "output_type": "stream",
     "text": [
      "(1965, 7)\n"
     ]
    },
    {
     "data": {
      "text/html": [
       "<div>\n",
       "<style scoped>\n",
       "    .dataframe tbody tr th:only-of-type {\n",
       "        vertical-align: middle;\n",
       "    }\n",
       "\n",
       "    .dataframe tbody tr th {\n",
       "        vertical-align: top;\n",
       "    }\n",
       "\n",
       "    .dataframe thead th {\n",
       "        text-align: right;\n",
       "    }\n",
       "</style>\n",
       "<table border=\"1\" class=\"dataframe\">\n",
       "  <thead>\n",
       "    <tr style=\"text-align: right;\">\n",
       "      <th></th>\n",
       "      <th>frequency_cal</th>\n",
       "      <th>recency_cal</th>\n",
       "      <th>T_cal</th>\n",
       "      <th>monetary_value_cal</th>\n",
       "      <th>frequency_holdout</th>\n",
       "      <th>monetary_value_holdout</th>\n",
       "      <th>duration_holdout</th>\n",
       "    </tr>\n",
       "    <tr>\n",
       "      <th>CustomerID</th>\n",
       "      <th></th>\n",
       "      <th></th>\n",
       "      <th></th>\n",
       "      <th></th>\n",
       "      <th></th>\n",
       "      <th></th>\n",
       "      <th></th>\n",
       "    </tr>\n",
       "  </thead>\n",
       "  <tbody>\n",
       "    <tr>\n",
       "      <th>12347.0</th>\n",
       "      <td>4.0</td>\n",
       "      <td>238.0</td>\n",
       "      <td>277.0</td>\n",
       "      <td>519.7675</td>\n",
       "      <td>2.0</td>\n",
       "      <td>759.570000</td>\n",
       "      <td>90.0</td>\n",
       "    </tr>\n",
       "    <tr>\n",
       "      <th>12348.0</th>\n",
       "      <td>2.0</td>\n",
       "      <td>110.0</td>\n",
       "      <td>268.0</td>\n",
       "      <td>297.2200</td>\n",
       "      <td>1.0</td>\n",
       "      <td>310.000000</td>\n",
       "      <td>90.0</td>\n",
       "    </tr>\n",
       "    <tr>\n",
       "      <th>12352.0</th>\n",
       "      <td>3.0</td>\n",
       "      <td>34.0</td>\n",
       "      <td>206.0</td>\n",
       "      <td>101.5600</td>\n",
       "      <td>3.0</td>\n",
       "      <td>314.743333</td>\n",
       "      <td>90.0</td>\n",
       "    </tr>\n",
       "    <tr>\n",
       "      <th>12356.0</th>\n",
       "      <td>1.0</td>\n",
       "      <td>80.0</td>\n",
       "      <td>235.0</td>\n",
       "      <td>481.4600</td>\n",
       "      <td>1.0</td>\n",
       "      <td>58.350000</td>\n",
       "      <td>90.0</td>\n",
       "    </tr>\n",
       "    <tr>\n",
       "      <th>12359.0</th>\n",
       "      <td>3.0</td>\n",
       "      <td>142.0</td>\n",
       "      <td>241.0</td>\n",
       "      <td>970.8100</td>\n",
       "      <td>2.0</td>\n",
       "      <td>1392.800000</td>\n",
       "      <td>90.0</td>\n",
       "    </tr>\n",
       "  </tbody>\n",
       "</table>\n",
       "</div>"
      ],
      "text/plain": [
       "            frequency_cal  recency_cal  T_cal  monetary_value_cal  \\\n",
       "CustomerID                                                          \n",
       "12347.0               4.0        238.0  277.0            519.7675   \n",
       "12348.0               2.0        110.0  268.0            297.2200   \n",
       "12352.0               3.0         34.0  206.0            101.5600   \n",
       "12356.0               1.0         80.0  235.0            481.4600   \n",
       "12359.0               3.0        142.0  241.0            970.8100   \n",
       "\n",
       "            frequency_holdout  monetary_value_holdout  duration_holdout  \n",
       "CustomerID                                                               \n",
       "12347.0                   2.0              759.570000              90.0  \n",
       "12348.0                   1.0              310.000000              90.0  \n",
       "12352.0                   3.0              314.743333              90.0  \n",
       "12356.0                   1.0               58.350000              90.0  \n",
       "12359.0                   2.0             1392.800000              90.0  "
      ]
     },
     "execution_count": 85,
     "metadata": {},
     "output_type": "execute_result"
    }
   ],
   "source": [
    "print(rfm_train_test.shape)\n",
    "rfm_train_test.head()"
   ]
  },
  {
   "cell_type": "code",
   "execution_count": 86,
   "metadata": {},
   "outputs": [
    {
     "data": {
      "image/png": "[encoded data removed]",
      "text/plain": [
       "<Figure size 1008x576 with 4 Axes>"
      ]
     },
     "metadata": {
      "needs_background": "light"
     },
     "output_type": "display_data"
    }
   ],
   "source": [
    "#plotting the distribution\n",
    "plt.figure(figsize=(14,8))\n",
    "plt.subplot(221)\n",
    "sns.distplot(rfm_train_test[\"frequency_cal\"])\n",
    "plt.title(\"Frequency Distribution\")\n",
    "plt.subplot(222)\n",
    "sns.distplot(rfm_train_test[\"recency_cal\"])\n",
    "plt.title(\"Recency Distribution\")\n",
    "plt.subplot(223)\n",
    "sns.distplot(rfm_train_test[\"T_cal\"])\n",
    "plt.title(\"T Distribution\")\n",
    "plt.subplot(224)\n",
    "sns.distplot(rfm_train_test[\"monetary_value_cal\"])\n",
    "plt.title(\"Monetary Value Distribution\")\n",
    "plt.tight_layout()"
   ]
  },
  {
   "cell_type": "code",
   "execution_count": 87,
   "metadata": {},
   "outputs": [
    {
     "data": {
      "image/png": "[encoded data removed]",
      "text/plain": [
       "<Figure size 1152x360 with 4 Axes>"
      ]
     },
     "metadata": {
      "needs_background": "light"
     },
     "output_type": "display_data"
    }
   ],
   "source": [
    "plt.figure(figsize=(16,5))\n",
    "plt.subplot(141)\n",
    "sns.boxplot(rfm_train_test[\"frequency_cal\"], color = \"lightblue\")\n",
    "plt.title(\"Frequency\")\n",
    "plt.subplot(142)\n",
    "sns.boxplot(rfm_train_test[\"recency_cal\"])\n",
    "plt.title(\"Recency\")\n",
    "plt.subplot(143)\n",
    "sns.boxplot(rfm_train_test[\"T_cal\"])\n",
    "plt.title(\"T\")\n",
    "plt.subplot(144)\n",
    "sns.boxplot(rfm_train_test[\"monetary_value_cal\"], color = \"darkblue\")\n",
    "\n",
    "plt.tight_layout()"
   ]
  },
  {
   "cell_type": "code",
   "execution_count": null,
   "metadata": {},
   "outputs": [],
   "source": []
  },
  {
   "cell_type": "markdown",
   "metadata": {},
   "source": [
    "# Modeling"
   ]
  },
  {
   "cell_type": "code",
   "execution_count": 88,
   "metadata": {},
   "outputs": [
    {
     "data": {
      "text/plain": [
       "<lifetimes.BetaGeoFitter: fitted with 1965 subjects, a: 0.01, alpha: 45.52, b: 0.17, r: 1.00>"
      ]
     },
     "execution_count": 88,
     "metadata": {},
     "output_type": "execute_result"
    }
   ],
   "source": [
    "#Train the BG/NBD model\n",
    "bgf = BetaGeoFitter(penalizer_coef=0.1)\n",
    "bgf.fit(rfm_train_test['frequency_cal'], rfm_train_test['recency_cal'], rfm_train_test['T_cal'])"
   ]
  },
  {
   "cell_type": "code",
   "execution_count": 89,
   "metadata": {},
   "outputs": [
    {
     "data": {
      "text/html": [
       "<div>\n",
       "<style scoped>\n",
       "    .dataframe tbody tr th:only-of-type {\n",
       "        vertical-align: middle;\n",
       "    }\n",
       "\n",
       "    .dataframe tbody tr th {\n",
       "        vertical-align: top;\n",
       "    }\n",
       "\n",
       "    .dataframe thead th {\n",
       "        text-align: right;\n",
       "    }\n",
       "</style>\n",
       "<table border=\"1\" class=\"dataframe\">\n",
       "  <thead>\n",
       "    <tr style=\"text-align: right;\">\n",
       "      <th></th>\n",
       "      <th>coef</th>\n",
       "      <th>se(coef)</th>\n",
       "      <th>lower 95% bound</th>\n",
       "      <th>upper 95% bound</th>\n",
       "    </tr>\n",
       "  </thead>\n",
       "  <tbody>\n",
       "    <tr>\n",
       "      <th>r</th>\n",
       "      <td>1.001777</td>\n",
       "      <td>0.027061</td>\n",
       "      <td>0.948737</td>\n",
       "      <td>1.054816</td>\n",
       "    </tr>\n",
       "    <tr>\n",
       "      <th>alpha</th>\n",
       "      <td>45.519041</td>\n",
       "      <td>1.727563</td>\n",
       "      <td>42.133017</td>\n",
       "      <td>48.905064</td>\n",
       "    </tr>\n",
       "    <tr>\n",
       "      <th>a</th>\n",
       "      <td>0.008206</td>\n",
       "      <td>0.003099</td>\n",
       "      <td>0.002133</td>\n",
       "      <td>0.014280</td>\n",
       "    </tr>\n",
       "    <tr>\n",
       "      <th>b</th>\n",
       "      <td>0.169488</td>\n",
       "      <td>0.040670</td>\n",
       "      <td>0.089775</td>\n",
       "      <td>0.249202</td>\n",
       "    </tr>\n",
       "  </tbody>\n",
       "</table>\n",
       "</div>"
      ],
      "text/plain": [
       "            coef  se(coef)  lower 95% bound  upper 95% bound\n",
       "r       1.001777  0.027061         0.948737         1.054816\n",
       "alpha  45.519041  1.727563        42.133017        48.905064\n",
       "a       0.008206  0.003099         0.002133         0.014280\n",
       "b       0.169488  0.040670         0.089775         0.249202"
      ]
     },
     "execution_count": 89,
     "metadata": {},
     "output_type": "execute_result"
    }
   ],
   "source": [
    "bgf.summary"
   ]
  },
  {
   "cell_type": "code",
   "execution_count": 90,
   "metadata": {},
   "outputs": [
    {
     "data": {
      "text/plain": [
       "<AxesSubplot:title={'center':'Expected Number of Future Purchases for 1 Unit of Time,\\nby Frequency and Recency of a Customer'}, xlabel=\"Customer's Historical Frequency\", ylabel=\"Customer's Recency\">"
      ]
     },
     "execution_count": 90,
     "metadata": {},
     "output_type": "execute_result"
    },
    {
     "data": {
      "image/png": "[encoded data removed]",
      "text/plain": [
       "<Figure size 432x288 with 2 Axes>"
      ]
     },
     "metadata": {
      "needs_background": "light"
     },
     "output_type": "display_data"
    }
   ],
   "source": [
    "from lifetimes.plotting import plot_frequency_recency_matrix\n",
    "\n",
    "plot_frequency_recency_matrix(bgf)"
   ]
  },
  {
   "cell_type": "code",
   "execution_count": 91,
   "metadata": {},
   "outputs": [
    {
     "data": {
      "text/plain": [
       "<AxesSubplot:title={'center':'Probability Customer is Alive,\\nby Frequency and Recency of a Customer'}, xlabel=\"Customer's Historical Frequency\", ylabel=\"Customer's Recency\">"
      ]
     },
     "execution_count": 91,
     "metadata": {},
     "output_type": "execute_result"
    },
    {
     "data": {
      "image/png": "[encoded data removed]",
      "text/plain": [
       "<Figure size 432x288 with 2 Axes>"
      ]
     },
     "metadata": {
      "needs_background": "light"
     },
     "output_type": "display_data"
    }
   ],
   "source": [
    "from lifetimes.plotting import plot_probability_alive_matrix\n",
    "\n",
    "plot_probability_alive_matrix(bgf)"
   ]
  },
  {
   "cell_type": "code",
   "execution_count": 92,
   "metadata": {},
   "outputs": [
    {
     "data": {
      "text/html": [
       "<div>\n",
       "<style scoped>\n",
       "    .dataframe tbody tr th:only-of-type {\n",
       "        vertical-align: middle;\n",
       "    }\n",
       "\n",
       "    .dataframe tbody tr th {\n",
       "        vertical-align: top;\n",
       "    }\n",
       "\n",
       "    .dataframe thead th {\n",
       "        text-align: right;\n",
       "    }\n",
       "</style>\n",
       "<table border=\"1\" class=\"dataframe\">\n",
       "  <thead>\n",
       "    <tr style=\"text-align: right;\">\n",
       "      <th></th>\n",
       "      <th>frequency_cal</th>\n",
       "      <th>recency_cal</th>\n",
       "      <th>T_cal</th>\n",
       "      <th>monetary_value_cal</th>\n",
       "      <th>frequency_holdout</th>\n",
       "      <th>monetary_value_holdout</th>\n",
       "      <th>duration_holdout</th>\n",
       "      <th>predicted_purchases</th>\n",
       "    </tr>\n",
       "    <tr>\n",
       "      <th>CustomerID</th>\n",
       "      <th></th>\n",
       "      <th></th>\n",
       "      <th></th>\n",
       "      <th></th>\n",
       "      <th></th>\n",
       "      <th></th>\n",
       "      <th></th>\n",
       "      <th></th>\n",
       "    </tr>\n",
       "  </thead>\n",
       "  <tbody>\n",
       "    <tr>\n",
       "      <th>15311.0</th>\n",
       "      <td>64.0</td>\n",
       "      <td>279.0</td>\n",
       "      <td>283.0</td>\n",
       "      <td>696.548125</td>\n",
       "      <td>26.0</td>\n",
       "      <td>449.841563</td>\n",
       "      <td>90.0</td>\n",
       "      <td>0.197804</td>\n",
       "    </tr>\n",
       "    <tr>\n",
       "      <th>14606.0</th>\n",
       "      <td>66.0</td>\n",
       "      <td>280.0</td>\n",
       "      <td>283.0</td>\n",
       "      <td>135.527727</td>\n",
       "      <td>22.0</td>\n",
       "      <td>85.690000</td>\n",
       "      <td>90.0</td>\n",
       "      <td>0.203901</td>\n",
       "    </tr>\n",
       "    <tr>\n",
       "      <th>12748.0</th>\n",
       "      <td>73.0</td>\n",
       "      <td>282.0</td>\n",
       "      <td>283.0</td>\n",
       "      <td>186.794795</td>\n",
       "      <td>41.0</td>\n",
       "      <td>181.542706</td>\n",
       "      <td>90.0</td>\n",
       "      <td>0.225224</td>\n",
       "    </tr>\n",
       "    <tr>\n",
       "      <th>17841.0</th>\n",
       "      <td>76.0</td>\n",
       "      <td>282.0</td>\n",
       "      <td>283.0</td>\n",
       "      <td>296.885132</td>\n",
       "      <td>36.0</td>\n",
       "      <td>302.525088</td>\n",
       "      <td>90.0</td>\n",
       "      <td>0.234355</td>\n",
       "    </tr>\n",
       "    <tr>\n",
       "      <th>14911.0</th>\n",
       "      <td>93.0</td>\n",
       "      <td>282.0</td>\n",
       "      <td>283.0</td>\n",
       "      <td>768.926667</td>\n",
       "      <td>52.0</td>\n",
       "      <td>550.064182</td>\n",
       "      <td>90.0</td>\n",
       "      <td>0.286100</td>\n",
       "    </tr>\n",
       "  </tbody>\n",
       "</table>\n",
       "</div>"
      ],
      "text/plain": [
       "            frequency_cal  recency_cal  T_cal  monetary_value_cal  \\\n",
       "CustomerID                                                          \n",
       "15311.0              64.0        279.0  283.0          696.548125   \n",
       "14606.0              66.0        280.0  283.0          135.527727   \n",
       "12748.0              73.0        282.0  283.0          186.794795   \n",
       "17841.0              76.0        282.0  283.0          296.885132   \n",
       "14911.0              93.0        282.0  283.0          768.926667   \n",
       "\n",
       "            frequency_holdout  monetary_value_holdout  duration_holdout  \\\n",
       "CustomerID                                                                \n",
       "15311.0                  26.0              449.841563              90.0   \n",
       "14606.0                  22.0               85.690000              90.0   \n",
       "12748.0                  41.0              181.542706              90.0   \n",
       "17841.0                  36.0              302.525088              90.0   \n",
       "14911.0                  52.0              550.064182              90.0   \n",
       "\n",
       "            predicted_purchases  \n",
       "CustomerID                       \n",
       "15311.0                0.197804  \n",
       "14606.0                0.203901  \n",
       "12748.0                0.225224  \n",
       "17841.0                0.234355  \n",
       "14911.0                0.286100  "
      ]
     },
     "execution_count": 92,
     "metadata": {},
     "output_type": "execute_result"
    }
   ],
   "source": [
    "#Ranking customers from best to worst\n",
    "t = 1\n",
    "rfm_train_test['predicted_purchases'] = bgf.conditional_expected_number_of_purchases_up_to_time(t, rfm_train_test['frequency_cal'], rfm_train_test['recency_cal'], rfm_train_test['T_cal'])\n",
    "rfm_train_test.sort_values(by='predicted_purchases').tail(5)"
   ]
  },
  {
   "cell_type": "markdown",
   "metadata": {},
   "source": [
    "To fit Gamma-Gamma model, we first need to make sure that the monetary value and frequency are not correlated as this is one of the basi assumptions of the model."
   ]
  },
  {
   "cell_type": "code",
   "execution_count": 93,
   "metadata": {},
   "outputs": [
    {
     "data": {
      "text/html": [
       "<div>\n",
       "<style scoped>\n",
       "    .dataframe tbody tr th:only-of-type {\n",
       "        vertical-align: middle;\n",
       "    }\n",
       "\n",
       "    .dataframe tbody tr th {\n",
       "        vertical-align: top;\n",
       "    }\n",
       "\n",
       "    .dataframe thead th {\n",
       "        text-align: right;\n",
       "    }\n",
       "</style>\n",
       "<table border=\"1\" class=\"dataframe\">\n",
       "  <thead>\n",
       "    <tr style=\"text-align: right;\">\n",
       "      <th></th>\n",
       "      <th>monetary_value_cal</th>\n",
       "      <th>frequency_cal</th>\n",
       "    </tr>\n",
       "  </thead>\n",
       "  <tbody>\n",
       "    <tr>\n",
       "      <th>monetary_value_cal</th>\n",
       "      <td>1.00000</td>\n",
       "      <td>0.15412</td>\n",
       "    </tr>\n",
       "    <tr>\n",
       "      <th>frequency_cal</th>\n",
       "      <td>0.15412</td>\n",
       "      <td>1.00000</td>\n",
       "    </tr>\n",
       "  </tbody>\n",
       "</table>\n",
       "</div>"
      ],
      "text/plain": [
       "                    monetary_value_cal  frequency_cal\n",
       "monetary_value_cal             1.00000        0.15412\n",
       "frequency_cal                  0.15412        1.00000"
      ]
     },
     "execution_count": 93,
     "metadata": {},
     "output_type": "execute_result"
    }
   ],
   "source": [
    "#Train Gamma-Gamma\n",
    "rfm_train_test[['monetary_value_cal', 'frequency_cal']].corr()"
   ]
  },
  {
   "cell_type": "markdown",
   "metadata": {},
   "source": [
    "As we see from the table they are not correlated."
   ]
  },
  {
   "cell_type": "code",
   "execution_count": 94,
   "metadata": {},
   "outputs": [
    {
     "data": {
      "text/plain": [
       "<lifetimes.GammaGammaFitter: fitted with 1965 subjects, p: 1.29, q: 3.71, v: 708.57>"
      ]
     },
     "execution_count": 94,
     "metadata": {},
     "output_type": "execute_result"
    }
   ],
   "source": [
    "ggf = GammaGammaFitter(penalizer_coef = 0)\n",
    "ggf.fit(rfm_train_test['frequency_cal'],\n",
    "        rfm_train_test['monetary_value_cal'])"
   ]
  },
  {
   "cell_type": "markdown",
   "metadata": {},
   "source": [
    "# Prediction"
   ]
  },
  {
   "cell_type": "code",
   "execution_count": 95,
   "metadata": {},
   "outputs": [],
   "source": [
    "#Predict the expected number of transactions in the next 89 days\n",
    "predicted_bgf = bgf.predict(89,\n",
    "                        rfm_train_test['frequency_cal'], \n",
    "                        rfm_train_test['recency_cal'], \n",
    "                        rfm_train_test['T_cal'])\n",
    "trans_pred = predicted_bgf.fillna(0)\n",
    "\n",
    "#Predict the average order value\n",
    "monetary_pred = ggf.conditional_expected_average_profit(rfm_train_test['frequency_cal'],\n",
    "                                        rfm_train_test['monetary_value_cal'])\n",
    "\n",
    "#Putting it all together\n",
    "sales_pred = trans_pred * monetary_pred"
   ]
  },
  {
   "cell_type": "code",
   "execution_count": 114,
   "metadata": {},
   "outputs": [
    {
     "data": {
      "text/plain": [
       "CustomerID\n",
       "12347.0    626.042219\n",
       "12348.0    255.160813\n",
       "12352.0    203.275779\n",
       "12356.0    195.284795\n",
       "12359.0    862.035006\n",
       "dtype: float64"
      ]
     },
     "execution_count": 114,
     "metadata": {},
     "output_type": "execute_result"
    }
   ],
   "source": [
    "sales_pred.head()"
   ]
  },
  {
   "cell_type": "code",
   "execution_count": 115,
   "metadata": {},
   "outputs": [
    {
     "data": {
      "text/plain": [
       "CustomerID\n",
       "12347.0    456.471167\n",
       "12348.0    317.270278\n",
       "12352.0    198.406142\n",
       "12356.0    383.023475\n",
       "12359.0    709.036274\n",
       "dtype: float64"
      ]
     },
     "execution_count": 115,
     "metadata": {},
     "output_type": "execute_result"
    }
   ],
   "source": [
    "monetary_pred.head()"
   ]
  },
  {
   "cell_type": "markdown",
   "metadata": {},
   "source": [
    "# Metrics"
   ]
  },
  {
   "cell_type": "raw",
   "metadata": {},
   "source": [
    "# Evaluation\n",
    "\n",
    "actual = rfm_train_test['monetary_value_holdout'] *  rfm_train_test['frequency_holdout']"
   ]
  },
  {
   "cell_type": "code",
   "execution_count": 97,
   "metadata": {},
   "outputs": [],
   "source": [
    "def evaluate(actual, sales_prediction):\n",
    "    print(f\"Total Sales Actual: {np.round(actual.sum())}\")\n",
    "    print(f\"Total Sales Predicted: {np.round(sales_prediction.sum())}\")\n",
    "    print(f\"Individual R2 score: {r2_score(actual, sales_prediction)} \")\n",
    "    print(f\"Individual Mean Absolute Error: {mean_absolute_error(actual, sales_prediction)}\")\n",
    "    plt.scatter(sales_prediction, actual)\n",
    "    plt.xlabel('Prediction')\n",
    "    plt.ylabel('Actual')      \n",
    "    plt.show()"
   ]
  },
  {
   "cell_type": "code",
   "execution_count": 98,
   "metadata": {},
   "outputs": [
    {
     "name": "stdout",
     "output_type": "stream",
     "text": [
      "Total Sales Actual: 1742804.0\n",
      "Total Sales Predicted: 1397434.0\n",
      "Individual R2 score: 0.6691278084377574 \n",
      "Individual Mean Absolute Error: 556.7639109686525\n"
     ]
    },
    {
     "data": {
      "image/png": "[encoded data removed]",
      "text/plain": [
       "<Figure size 432x288 with 1 Axes>"
      ]
     },
     "metadata": {
      "needs_background": "light"
     },
     "output_type": "display_data"
    }
   ],
   "source": [
    "evaluate(actual, sales_pred)"
   ]
  },
  {
   "cell_type": "markdown",
   "metadata": {},
   "source": [
    "Model is predicting relativly well for 89 days period. "
   ]
  },
  {
   "cell_type": "markdown",
   "metadata": {},
   "source": [
    "# Dashboards"
   ]
  },
  {
   "cell_type": "code",
   "execution_count": null,
   "metadata": {},
   "outputs": [],
   "source": []
  },
  {
   "cell_type": "code",
   "execution_count": null,
   "metadata": {},
   "outputs": [],
   "source": []
  },
  {
   "cell_type": "code",
   "execution_count": null,
   "metadata": {},
   "outputs": [],
   "source": []
  }
 ],
 "metadata": {
  "kernelspec": {
   "display_name": "Python 3",
   "language": "python",
   "name": "python3"
  },
  "language_info": {
   "codemirror_mode": {
    "name": "ipython",
    "version": 3
   },
   "file_extension": ".py",
   "mimetype": "text/x-python",
   "name": "python",
   "nbconvert_exporter": "python",
   "pygments_lexer": "ipython3",
   "version": "3.7.6"
  }
 },
 "nbformat": 4,
 "nbformat_minor": 4
}
